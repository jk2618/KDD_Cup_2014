{
 "cells": [
  {
   "cell_type": "markdown",
   "metadata": {},
   "source": [
    "# Exploratory Data Analysis \n",
    "# Brief Review of projects.csv"
   ]
  },
  {
   "cell_type": "code",
   "execution_count": 1,
   "metadata": {},
   "outputs": [
    {
     "name": "stdout",
     "output_type": "stream",
     "text": [
      "root\n",
      " |-- projectid: string (nullable = true)\n",
      " |-- teacher_acctid: string (nullable = true)\n",
      " |-- schoolid: string (nullable = true)\n",
      " |-- school_ncesid: double (nullable = true)\n",
      " |-- school_latitude: double (nullable = true)\n",
      " |-- school_longitude: double (nullable = true)\n",
      " |-- school_city: string (nullable = true)\n",
      " |-- school_state: string (nullable = true)\n",
      " |-- school_zip: double (nullable = true)\n",
      " |-- school_metro: string (nullable = true)\n",
      " |-- school_district: string (nullable = true)\n",
      " |-- school_county: string (nullable = true)\n",
      " |-- school_charter: string (nullable = true)\n",
      " |-- school_magnet: string (nullable = true)\n",
      " |-- school_year_round: string (nullable = true)\n",
      " |-- school_nlns: string (nullable = true)\n",
      " |-- school_kipp: string (nullable = true)\n",
      " |-- school_charter_ready_promise: string (nullable = true)\n",
      " |-- teacher_prefix: string (nullable = true)\n",
      " |-- teacher_teach_for_america: string (nullable = true)\n",
      " |-- teacher_ny_teaching_fellow: string (nullable = true)\n",
      " |-- primary_focus_subject: string (nullable = true)\n",
      " |-- primary_focus_area: string (nullable = true)\n",
      " |-- secondary_focus_subject: string (nullable = true)\n",
      " |-- secondary_focus_area: string (nullable = true)\n",
      " |-- resource_type: string (nullable = true)\n",
      " |-- poverty_level: string (nullable = true)\n",
      " |-- grade_level: string (nullable = true)\n",
      " |-- fulfillment_labor_materials: double (nullable = true)\n",
      " |-- total_price_excluding_optional_support: double (nullable = true)\n",
      " |-- total_price_including_optional_support: double (nullable = true)\n",
      " |-- students_reached: integer (nullable = true)\n",
      " |-- eligible_double_your_impact_match: string (nullable = true)\n",
      " |-- eligible_almost_home_match: string (nullable = true)\n",
      " |-- date_posted: timestamp (nullable = true)\n",
      "\n"
     ]
    }
   ],
   "source": [
    "from pyspark.sql import SparkSession\n",
    "spark = SparkSession.builder.master('local').appName('Data cleaning').getOrCreate()\n",
    "\n",
    "projects = spark.read.csv('C:/data/projects.csv', header=True, inferSchema=True)\n",
    "projects.createOrReplaceTempView(\"projects\")\n",
    "projects.printSchema()"
   ]
  },
  {
   "cell_type": "code",
   "execution_count": 2,
   "metadata": {},
   "outputs": [
    {
     "name": "stdout",
     "output_type": "stream",
     "text": [
      "+--------------------+-----------+-----------+---------------------+---------------+-------------------+\n",
      "|           projectid|school_city|school_nlns|primary_focus_subject|  poverty_level|        date_posted|\n",
      "+--------------------+-----------+-----------+---------------------+---------------+-------------------+\n",
      "|316ed8fb3b81402ff...|      Selma|          f| Literature & Writing|highest poverty|2014-05-12 00:00:00|\n",
      "|90de744e368a7e488...|     Dallas|          f|             Literacy|highest poverty|2014-05-12 00:00:00|\n",
      "|32943bb1063267de6...|     Colton|          f|             Literacy|   high poverty|2014-05-11 00:00:00|\n",
      "|bb18f409abda2f264...|   Brooklyn|          f|      Social Sciences|highest poverty|2014-05-11 00:00:00|\n",
      "|24761b686e18e5eac...|Los Angeles|          f|          Mathematics|highest poverty|2014-05-11 00:00:00|\n",
      "|eac7d156205f1333d...|   Chandler|          f| Literature & Writing|highest poverty|2014-05-11 00:00:00|\n",
      "|5a3bfdf2e05781ccd...|  Lafayette|          f|        Gym & Fitness|highest poverty|2014-05-11 00:00:00|\n",
      "|afda16eb54d8992db...|   Marietta|          f|             Literacy|highest poverty|2014-05-11 00:00:00|\n",
      "|2ab3efb23acc84017...|    Detroit|          f|             Literacy|highest poverty|2014-05-11 00:00:00|\n",
      "|3118962680bb06232...|     Camden|          f| College & Career ...|highest poverty|2014-05-11 00:00:00|\n",
      "+--------------------+-----------+-----------+---------------------+---------------+-------------------+\n",
      "\n"
     ]
    }
   ],
   "source": [
    "spark.sql(\"\"\"SELECT projectid, school_city, school_nlns, primary_focus_subject, poverty_level, date_posted \n",
    "             FROM projects LIMIT 10\"\"\").show()"
   ]
  },
  {
   "cell_type": "markdown",
   "metadata": {},
   "source": [
    "# Check Duplicates in projects.csv"
   ]
  },
  {
   "cell_type": "code",
   "execution_count": 3,
   "metadata": {},
   "outputs": [
    {
     "name": "stdout",
     "output_type": "stream",
     "text": [
      "number of rows: 664098\n",
      "number of unique rows: 664098\n"
     ]
    }
   ],
   "source": [
    "print('number of rows: {0}'.format(projects.count()))\n",
    "print('number of unique rows: {0}'.format(projects.distinct().count()))"
   ]
  },
  {
   "cell_type": "code",
   "execution_count": 4,
   "metadata": {},
   "outputs": [
    {
     "name": "stdout",
     "output_type": "stream",
     "text": [
      "number of projectid: 664098\n",
      "number of unique projectid: 664098\n"
     ]
    }
   ],
   "source": [
    "print('number of projectid: {0}'.format(projects.select('projectid').count()))\n",
    "print('number of unique projectid: {0}'.format(projects.select('projectid').distinct().count()))"
   ]
  },
  {
   "cell_type": "markdown",
   "metadata": {},
   "source": [
    "# Brief Reviw of outcomes.csv"
   ]
  },
  {
   "cell_type": "code",
   "execution_count": 5,
   "metadata": {},
   "outputs": [
    {
     "name": "stdout",
     "output_type": "stream",
     "text": [
      "root\n",
      " |-- projectid: string (nullable = true)\n",
      " |-- is_exciting: string (nullable = true)\n",
      " |-- at_least_1_teacher_referred_donor: string (nullable = true)\n",
      " |-- fully_funded: string (nullable = true)\n",
      " |-- at_least_1_green_donation: string (nullable = true)\n",
      " |-- great_chat: string (nullable = true)\n",
      " |-- three_or_more_non_teacher_referred_donors: string (nullable = true)\n",
      " |-- one_non_teacher_referred_donor_giving_100_plus: string (nullable = true)\n",
      " |-- donation_from_thoughtful_donor: string (nullable = true)\n",
      " |-- great_messages_proportion: string (nullable = true)\n",
      " |-- teacher_referred_count: string (nullable = true)\n",
      " |-- non_teacher_referred_count: string (nullable = true)\n",
      "\n"
     ]
    }
   ],
   "source": [
    "outcomes = spark.read.csv('C:/data/outcomes.csv', header=True)\n",
    "outcomes.printSchema()\n",
    "outcomes.createOrReplaceTempView(\"outcomes\")"
   ]
  },
  {
   "cell_type": "code",
   "execution_count": 6,
   "metadata": {},
   "outputs": [
    {
     "name": "stdout",
     "output_type": "stream",
     "text": [
      "+--------------------+-----------+----------+-------------------------+----------------------+\n",
      "|           projectid|is_exciting|great_chat|great_messages_proportion|teacher_referred_count|\n",
      "+--------------------+-----------+----------+-------------------------+----------------------+\n",
      "|ffffc4f85b60efc5b...|          f|         f|                     null|                  null|\n",
      "|ffffac55ee02a49d1...|          f|         f|                     57.0|                   0.0|\n",
      "|ffff97ed93720407d...|          f|         t|                    100.0|                   0.0|\n",
      "|ffff418bb42fad243...|          f|         t|                    100.0|                   0.0|\n",
      "|ffff2d9c769c8fb53...|          t|         t|                     63.0|                   6.0|\n",
      "|fffeebf4827d745aa...|          f|         f|                      0.0|                   0.0|\n",
      "|fffee68353ade53e7...|          f|         f|                      0.0|                   0.0|\n",
      "|fffec078a2249c236...|          f|         f|                     null|                   0.0|\n",
      "|fffeb149cd9b85d80...|          f|         f|                     null|                   0.0|\n",
      "|fffeaae9482c9b72c...|          f|         f|                      0.0|                   0.0|\n",
      "+--------------------+-----------+----------+-------------------------+----------------------+\n",
      "\n"
     ]
    }
   ],
   "source": [
    "spark.sql(\"\"\"SELECT projectid, is_exciting, great_chat, great_messages_proportion,teacher_referred_count \n",
    "             FROM outcomes LIMIT 10\"\"\").show()"
   ]
  },
  {
   "cell_type": "markdown",
   "metadata": {},
   "source": [
    "# Check Duplicates in outcomes.csv"
   ]
  },
  {
   "cell_type": "code",
   "execution_count": 7,
   "metadata": {},
   "outputs": [
    {
     "name": "stdout",
     "output_type": "stream",
     "text": [
      "number of rows: 619326\n",
      "number of unique rows: 619326\n"
     ]
    }
   ],
   "source": [
    "print('number of rows: {0}'.format(outcomes.count()))\n",
    "print('number of unique rows: {0}'.format(outcomes.distinct().count()))"
   ]
  },
  {
   "cell_type": "code",
   "execution_count": 8,
   "metadata": {},
   "outputs": [
    {
     "name": "stdout",
     "output_type": "stream",
     "text": [
      "number of projectid: 619326\n",
      "number of unique projectid: 619326\n"
     ]
    }
   ],
   "source": [
    "print('number of projectid: {0}'.format(outcomes.select('projectid').count()))\n",
    "print('number of unique projectid: {0}'.format(outcomes.select('projectid').distinct().count()))"
   ]
  },
  {
   "cell_type": "markdown",
   "metadata": {},
   "source": [
    "# Brief Review of essays.csv"
   ]
  },
  {
   "cell_type": "code",
   "execution_count": 9,
   "metadata": {},
   "outputs": [
    {
     "name": "stdout",
     "output_type": "stream",
     "text": [
      "root\n",
      " |-- projectid: string (nullable = true)\n",
      " |-- teacher_acctid: string (nullable = true)\n",
      " |-- title: string (nullable = true)\n",
      " |-- short_description: string (nullable = true)\n",
      " |-- need_statement: string (nullable = true)\n",
      " |-- essay: string (nullable = true)\n",
      "\n"
     ]
    }
   ],
   "source": [
    "essays = spark.read.csv('C:/data/essays.csv', header=True)\n",
    "essays.printSchema()\n",
    "essays.createOrReplaceTempView(\"essays\")"
   ]
  },
  {
   "cell_type": "code",
   "execution_count": 10,
   "metadata": {},
   "outputs": [
    {
     "name": "stdout",
     "output_type": "stream",
     "text": [
      "+--------------------+--------------------+--------------------+--------------------+\n",
      "|           projectid|               title|   short_description|               essay|\n",
      "+--------------------+--------------------+--------------------+--------------------+\n",
      "|ffffc4f85b60efc5b...|               iMath|It is imperative ...|I am a fourth yea...|\n",
      "|                  \\n|                null|                null|                null|\n",
      "|\\nI would like to...|     create podcasts|     listen to tests| with other class...|\n",
      "|                  \\n|                null|                null|                null|\n",
      "|\\nStudents contin...| including using ...|       manipulatives| I work in a Titl...|\n",
      "|                  \\n|                null|                null|                null|\n",
      "|\\nIt is imperativ...| “students learn ...|                null|                null|\n",
      "|ffffac55ee02a49d1...|Recording Rockin'...|Can you imagine h...|Can you imagine h...|\n",
      "|                  \\n|                null|                null|                null|\n",
      "|\\nMy students are...| my students are ...|                null|                null|\n",
      "+--------------------+--------------------+--------------------+--------------------+\n",
      "\n"
     ]
    }
   ],
   "source": [
    "spark.sql(\"\"\"SELECt projectid, title, short_description, essay \n",
    "             FROM essays LIMIT 10\"\"\").show()"
   ]
  },
  {
   "cell_type": "markdown",
   "metadata": {},
   "source": [
    "# Check Duplicates in essays.csv"
   ]
  },
  {
   "cell_type": "code",
   "execution_count": 11,
   "metadata": {},
   "outputs": [
    {
     "name": "stdout",
     "output_type": "stream",
     "text": [
      "number of rows: 5399190\n",
      "number of unique rows: 2941600\n"
     ]
    }
   ],
   "source": [
    "print('number of rows: {0}'.format(essays.count()))\n",
    "print('number of unique rows: {0}'.format(essays.distinct().count()))"
   ]
  },
  {
   "cell_type": "code",
   "execution_count": 12,
   "metadata": {},
   "outputs": [
    {
     "name": "stdout",
     "output_type": "stream",
     "text": [
      "number of projectid: 5399190\n",
      "number of unique projectid: 2688834\n"
     ]
    }
   ],
   "source": [
    "print('number of projectid: {0}'.format(essays.select('projectid').count()))\n",
    "print('number of unique projectid: {0}'.format(essays.select('projectid').distinct().count()))"
   ]
  },
  {
   "cell_type": "markdown",
   "metadata": {},
   "source": [
    "# Merge Three Datasets"
   ]
  },
  {
   "cell_type": "code",
   "execution_count": 13,
   "metadata": {},
   "outputs": [
    {
     "data": {
      "text/plain": [
       "422848"
      ]
     },
     "execution_count": 13,
     "metadata": {},
     "output_type": "execute_result"
    }
   ],
   "source": [
    "data = spark.sql(\"\"\"SELECT p.*, \n",
    "                    o.is_exciting, o.at_least_1_teacher_referred_donor, o.fully_funded,\n",
    "                    o.at_least_1_green_donation, o.great_chat, o.three_or_more_non_teacher_referred_donors,\n",
    "                    o.one_non_teacher_referred_donor_giving_100_plus, o.donation_from_thoughtful_donor,\n",
    "                    o.great_messages_proportion, o.teacher_referred_count, o.non_teacher_referred_count, \n",
    "                    e.title, e.short_description, e.need_statement, e.essay\n",
    "                    FROM projects p\n",
    "                    INNER JOIN outcomes o ON p.projectid = o.projectid\n",
    "                    INNER JOIN essays e ON p.projectid = e.projectid\n",
    "                    WHERE p.date_posted > '2010-04-01' AND p.date_posted < '2014-01-01' \"\"\")\n",
    "\n",
    "data.createOrReplaceTempView(\"data\")\n",
    "data = data.drop('date_posted')\n",
    "data.count()"
   ]
  },
  {
   "cell_type": "code",
   "execution_count": 14,
   "metadata": {},
   "outputs": [
    {
     "name": "stdout",
     "output_type": "stream",
     "text": [
      "number of rows: 422848\n",
      "number of unique rows: 422848\n"
     ]
    }
   ],
   "source": [
    "print('number of rows: {0}'.format(data.count()))\n",
    "print('number of unique rows: {0}'.format(data.distinct().count()))"
   ]
  },
  {
   "cell_type": "code",
   "execution_count": 15,
   "metadata": {},
   "outputs": [
    {
     "name": "stdout",
     "output_type": "stream",
     "text": [
      "number of projectid: 422848\n",
      "number of unique projectid: 422848\n"
     ]
    }
   ],
   "source": [
    "print('number of projectid: {0}'.format(data.select('projectid').count()))\n",
    "print('number of unique projectid: {0}'.format(data.select('projectid').distinct().count()))"
   ]
  },
  {
   "cell_type": "markdown",
   "metadata": {},
   "source": [
    "# Check Missing Values"
   ]
  },
  {
   "cell_type": "code",
   "execution_count": 16,
   "metadata": {},
   "outputs": [
    {
     "data": {
      "text/plain": [
       "['[Row(projectid__missing =0.0',\n",
       " ' teacher_acctid__missing =0.0',\n",
       " ' schoolid__missing =0.0',\n",
       " ' school_ncesid__missing =0.06892074693506889',\n",
       " ' school_latitude__missing =0.0',\n",
       " ' school_longitude__missing =0.0',\n",
       " ' school_city__missing =0.0',\n",
       " ' school_state__missing =0.0',\n",
       " ' school_zip__missing =7.094747994540462e-06',\n",
       " ' school_metro__missing =0.12326888148932946',\n",
       " ' school_district__missing =0.0011422544271227908',\n",
       " ' school_county__missing =0.0',\n",
       " ' school_charter__missing =0.0',\n",
       " ' school_magnet__missing =0.0',\n",
       " ' school_year_round__missing =0.0',\n",
       " ' school_nlns__missing =0.0',\n",
       " ' school_kipp__missing =0.0',\n",
       " ' school_charter_ready_promise__missing =0.0',\n",
       " ' teacher_prefix__missing =0.0',\n",
       " ' teacher_teach_for_america__missing =0.0',\n",
       " ' teacher_ny_teaching_fellow__missing =0.0',\n",
       " ' primary_focus_subject__missing =8.277205993645342e-05',\n",
       " ' primary_focus_area__missing =8.277205993645342e-05',\n",
       " ' secondary_focus_subject__missing =0.3267557136370516',\n",
       " ' secondary_focus_area__missing =0.3267557136370516',\n",
       " ' resource_type__missing =9.93264719236775e-05',\n",
       " ' poverty_level__missing =0.0',\n",
       " ' grade_level__missing =1.4189495989080925e-05',\n",
       " ' fulfillment_labor_materials__missing =0.0',\n",
       " ' total_price_excluding_optional_support__missing =0.0',\n",
       " ' total_price_including_optional_support__missing =0.0',\n",
       " ' students_reached__missing =0.0002412214318147088',\n",
       " ' eligible_double_your_impact_match__missing =0.0',\n",
       " ' eligible_almost_home_match__missing =0.0',\n",
       " ' is_exciting__missing =0.0',\n",
       " ' at_least_1_teacher_referred_donor__missing =0.12622029665506285',\n",
       " ' fully_funded__missing =0.0',\n",
       " ' at_least_1_green_donation__missing =0.12622029665506285',\n",
       " ' great_chat__missing =0.0',\n",
       " ' three_or_more_non_teacher_referred_donors__missing =0.12622029665506285',\n",
       " ' one_non_teacher_referred_donor_giving_100_plus__missing =0.12622029665506285',\n",
       " ' donation_from_thoughtful_donor__missing =0.12622029665506285',\n",
       " ' great_messages_proportion__missing =0.15441719010140764',\n",
       " ' teacher_referred_count__missing =0.12622029665506285',\n",
       " ' non_teacher_referred_count__missing =0.12622029665506285',\n",
       " ' title__missing =2.3649159981431467e-06',\n",
       " ' short_description__missing =5.2028151960037405e-05',\n",
       " ' need_statement__missing =0.006844066898743728',\n",
       " ' essay__missing =0.01162119721507493)]']"
      ]
     },
     "execution_count": 16,
     "metadata": {},
     "output_type": "execute_result"
    }
   ],
   "source": [
    "import pyspark.sql.functions as fn\n",
    "missing = data.agg(*[\n",
    "    (1 - (fn.count(c) / fn.count('*'))).alias(c + '__missing ')\n",
    "    for c in data.columns\n",
    "])\n",
    "missing_list = missing.collect()\n",
    "str(missing_list).split(',')"
   ]
  },
  {
   "cell_type": "markdown",
   "metadata": {},
   "source": [
    "# Exploratory Data Analysis\n",
    "# Visualization\n",
    "I cheated a little bit by converting pySpark DF to pandas DF and utilize python matplotlib package to generate plots, because the plot tools are not well-established in pySpark (at least to me it is difficult to find references)."
   ]
  },
  {
   "cell_type": "markdown",
   "metadata": {},
   "source": [
    "# Imbalanced Dataset\n",
    "As we can see the number of exciting (successful) projcts is s small fraction in total number of projects proposed by school teachers."
   ]
  },
  {
   "cell_type": "code",
   "execution_count": 17,
   "metadata": {},
   "outputs": [],
   "source": [
    "temp2 = spark.sql(\"\"\"SELECT is_exciting, count(is_exciting) as num_exciting \n",
    "                     FROM data\n",
    "                     GROUP BY is_exciting\"\"\")"
   ]
  },
  {
   "cell_type": "code",
   "execution_count": 18,
   "metadata": {},
   "outputs": [
    {
     "data": {
      "image/png": "[encoded data removed]",
      "text/plain": [
       "<matplotlib.figure.Figure at 0x23799a432b0>"
      ]
     },
     "metadata": {},
     "output_type": "display_data"
    }
   ],
   "source": [
    "import matplotlib.pyplot as plt\n",
    "%matplotlib inline\n",
    "\n",
    "temp22 = temp2.toPandas()\n",
    "x_labels = temp22.is_exciting\n",
    "fig = temp22[['num_exciting']].plot(kind='bar', figsize=(12, 8))\n",
    "fig.set_xticklabels(x_labels)\n",
    "fig.set_title('Total Number of projects')\n",
    "fig.set_xlabel('School State')\n",
    "fig.set_ylabel('Number of projects')\n",
    "plt.show()"
   ]
  },
  {
   "cell_type": "markdown",
   "metadata": {},
   "source": [
    "Next, we would like to see the distribution of exciting and non-exciting projects separated by school state. Interestingly, we found that the projects proposed in CA outperformed all other states during 2010 and 2014."
   ]
  },
  {
   "cell_type": "code",
   "execution_count": 19,
   "metadata": {},
   "outputs": [
    {
     "name": "stdout",
     "output_type": "stream",
     "text": [
      "+------------+------------+----------------+\n",
      "|school_state|num_exciting|num_non_exciting|\n",
      "+------------+------------+----------------+\n",
      "|          SC|         642|            8136|\n",
      "|          AZ|         756|            6579|\n",
      "|          LA|         641|            6348|\n",
      "|          MN|         381|            2910|\n",
      "|          NJ|         546|            5539|\n",
      "|          DC|         600|            2635|\n",
      "|          OR|         469|            3924|\n",
      "|          VA|         770|            5868|\n",
      "|          RI|         170|            1207|\n",
      "|          KY|         222|            3090|\n",
      "|          WY|          13|             318|\n",
      "|          NH|          98|             995|\n",
      "|          MI|         846|            7090|\n",
      "|          NV|         323|            5811|\n",
      "|          WI|         483|            4273|\n",
      "|          ID|         107|            1203|\n",
      "|          CA|        7023|           85140|\n",
      "|          CT|         458|            4203|\n",
      "|          NE|          85|            1114|\n",
      "|          MT|          44|             454|\n",
      "+------------+------------+----------------+\n",
      "only showing top 20 rows\n",
      "\n"
     ]
    }
   ],
   "source": [
    "temp3 = spark.sql(\"\"\"SELECt school_state,\n",
    "                     SUM(CASE WHEN is_exciting = 't' THEN 1 ELSE 0 END) AS num_exciting, \n",
    "                     SUM(CASE WHEN is_exciting = 'f' THEN 1 ELSE 0 END) AS num_non_exciting\n",
    "                     FROM data \n",
    "                     GROUP BY school_state \"\"\")\n",
    "temp3.show()"
   ]
  },
  {
   "cell_type": "code",
   "execution_count": 20,
   "metadata": {},
   "outputs": [
    {
     "data": {
      "image/png": "[encoded data removed]",
      "text/plain": [
       "<matplotlib.figure.Figure at 0x2379b69e940>"
      ]
     },
     "metadata": {},
     "output_type": "display_data"
    }
   ],
   "source": [
    "import matplotlib.pyplot as plt\n",
    "%matplotlib inline\n",
    "\n",
    "temp33 = temp3.toPandas()\n",
    "x_labels = temp33.school_state\n",
    "fig = temp33[['num_non_exciting', 'num_exciting']].plot(kind='bar', figsize=(18, 15), stacked=True)\n",
    "fig.set_xticklabels(x_labels)\n",
    "fig.set_title('Toal Number of projects')\n",
    "fig.set_xlabel('School State')\n",
    "fig.set_ylabel('Number of projects')\n",
    "plt.show()"
   ]
  }
 ],
 "metadata": {
  "kernelspec": {
   "display_name": "Python 3",
   "language": "python",
   "name": "python3"
  },
  "language_info": {
   "codemirror_mode": {
    "name": "ipython",
    "version": 3
   },
   "file_extension": ".py",
   "mimetype": "text/x-python",
   "name": "python",
   "nbconvert_exporter": "python",
   "pygments_lexer": "ipython3",
   "version": "3.6.4"
  }
 },
 "nbformat": 4,
 "nbformat_minor": 2
}
